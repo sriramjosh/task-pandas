{
 "cells": [
  {
   "cell_type": "code",
   "execution_count": 2,
   "id": "3747a2fc",
   "metadata": {},
   "outputs": [],
   "source": [
    "import pandas as pd\n",
    "import numpy as np\n",
    "import sklearn"
   ]
  },
  {
   "cell_type": "code",
   "execution_count": 3,
   "id": "2105a7c7",
   "metadata": {},
   "outputs": [
    {
     "name": "stdout",
     "output_type": "stream",
     "text": [
      "          Date Product  Revenue  Quantity\n",
      "0   2023-01-01       A      221         3\n",
      "1   2023-01-01       B      111         8\n",
      "2   2023-01-02       B      171        11\n",
      "3   2023-01-02       A      141        15\n",
      "4   2023-02-01       A       75         4\n",
      "5   2023-02-01       B       90        12\n",
      "6   2023-02-02       A       96        17\n",
      "7   2023-02-02       B      170        10\n",
      "8   2023-03-01       B      200        19\n",
      "9   2023-03-01       A      120        10\n",
      "10  2023-03-02       A      121        12\n",
      "11  2023-03-02       B      150         5\n"
     ]
    }
   ],
   "source": [
    "import pandas as pd\n",
    "\n",
    "data = {\n",
    "    'Date': ['2023-01-01', '2023-01-01', '2023-01-02', '2023-01-02', '2023-02-01', '2023-02-01', '2023-02-02', '2023-02-02', '2023-03-01', '2023-03-01', '2023-03-02', '2023-03-02'],\n",
    "    'Product': ['A', 'B', 'B', 'A', 'A', 'B', 'A', 'B', 'B', 'A', 'A', 'B'],\n",
    "    'Revenue': [221, 111, 171, 141, 75, 90, 96, 170, 200, 120, 121, 150],\n",
    "    'Quantity': [3, 8, 11, 15, 4, 12, 17, 10, 19, 10, 12, 5]\n",
    "}\n",
    "df = pd.DataFrame(data)\n",
    "\n",
    "print(df)\n"
   ]
  },
  {
   "cell_type": "code",
   "execution_count": 4,
   "id": "c0f928ee",
   "metadata": {},
   "outputs": [
    {
     "name": "stdout",
     "output_type": "stream",
     "text": [
      "<class 'pandas.core.frame.DataFrame'>\n",
      "RangeIndex: 12 entries, 0 to 11\n",
      "Data columns (total 4 columns):\n",
      " #   Column    Non-Null Count  Dtype \n",
      "---  ------    --------------  ----- \n",
      " 0   Date      12 non-null     object\n",
      " 1   Product   12 non-null     object\n",
      " 2   Revenue   12 non-null     int64 \n",
      " 3   Quantity  12 non-null     int64 \n",
      "dtypes: int64(2), object(2)\n",
      "memory usage: 516.0+ bytes\n"
     ]
    }
   ],
   "source": [
    "df.info()"
   ]
  },
  {
   "cell_type": "code",
   "execution_count": 7,
   "id": "96c1ad44",
   "metadata": {},
   "outputs": [
    {
     "data": {
      "text/plain": [
       "Date         6\n",
       "Product      2\n",
       "Revenue     12\n",
       "Quantity    10\n",
       "dtype: int64"
      ]
     },
     "execution_count": 7,
     "metadata": {},
     "output_type": "execute_result"
    }
   ],
   "source": [
    "df.nunique()"
   ]
  },
  {
   "cell_type": "markdown",
   "id": "2901bbcf",
   "metadata": {},
   "source": [
    "## 1 Arrange DataFrame df, focusing on distinct product categories. Explore the data to reveal:"
   ]
  },
  {
   "cell_type": "markdown",
   "id": "794e576a",
   "metadata": {},
   "source": [
    "Overall revenue insights"
   ]
  },
  {
   "cell_type": "code",
   "execution_count": 14,
   "id": "01353550",
   "metadata": {},
   "outputs": [
    {
     "name": "stdout",
     "output_type": "stream",
     "text": [
      "  Product  Revenue\n",
      "0       A      774\n",
      "1       B      892\n"
     ]
    }
   ],
   "source": [
    "p= df.groupby('Product')['Revenue'].sum().reset_index()\n",
    "q= p.sort_values(by='Revenue', ascending=True)\n",
    "print(q)"
   ]
  },
  {
   "cell_type": "code",
   "execution_count": 15,
   "id": "b768fa92",
   "metadata": {},
   "outputs": [
    {
     "name": "stdout",
     "output_type": "stream",
     "text": [
      "  Product  Revenue\n",
      "1       B      892\n",
      "0       A      774\n"
     ]
    }
   ],
   "source": [
    "p= df.groupby('Product')['Revenue'].sum().reset_index()\n",
    "q= p.sort_values(by='Revenue', ascending=False)\n",
    "print(q)"
   ]
  },
  {
   "cell_type": "markdown",
   "id": "b8bd4449",
   "metadata": {},
   "source": [
    "the overall revenue insights is 774 for product 'A' and 892 for product 'B',by this we can observe that the revenue of product B is greater than product A in the given time period"
   ]
  },
  {
   "cell_type": "markdown",
   "id": "7af31e40",
   "metadata": {},
   "source": [
    "Average revenue patterns"
   ]
  },
  {
   "cell_type": "code",
   "execution_count": null,
   "id": "0df4ce43",
   "metadata": {},
   "outputs": [],
   "source": [
    "df.groupby(['Product'])['Revenue'].mean()"
   ]
  },
  {
   "cell_type": "markdown",
   "id": "381a4540",
   "metadata": {},
   "source": [
    "Peak quantity sold observations"
   ]
  },
  {
   "cell_type": "code",
   "execution_count": 17,
   "id": "2a0ac8ce",
   "metadata": {},
   "outputs": [
    {
     "data": {
      "text/plain": [
       "Product\n",
       "A    221\n",
       "B    200\n",
       "Name: Revenue, dtype: int64"
      ]
     },
     "execution_count": 17,
     "metadata": {},
     "output_type": "execute_result"
    }
   ],
   "source": [
    "df.groupby(['Product'])['Revenue'].max()"
   ]
  },
  {
   "cell_type": "markdown",
   "id": "20ecf3e3",
   "metadata": {},
   "source": [
    "Minimum quantity sold occurrences"
   ]
  },
  {
   "cell_type": "code",
   "execution_count": 21,
   "id": "3b719c31",
   "metadata": {},
   "outputs": [
    {
     "data": {
      "text/plain": [
       "Product\n",
       "A    3\n",
       "B    5\n",
       "Name: Quantity, dtype: int64"
      ]
     },
     "execution_count": 21,
     "metadata": {},
     "output_type": "execute_result"
    }
   ],
   "source": [
    "k =s=df.groupby(['Product'])['Quantity'].min()\n",
    "\n",
    "k"
   ]
  },
  {
   "cell_type": "markdown",
   "id": "53e5472c",
   "metadata": {},
   "source": [
    "2) Aggregate DataFrame df by extracting the month and year from the 'Date' column. Calculate the collective revenue for each unique combination of month and year."
   ]
  },
  {
   "cell_type": "markdown",
   "id": "ab7484a1",
   "metadata": {},
   "source": [
    "The pd.to_datetime function in pandas is used to convert argument to datetime. In the context of a DataFrame, it's often used to convert a column containing date-like strings or other date-like objects into a pandas datetime object, which allows for convenient datetime operations."
   ]
  },
  {
   "cell_type": "code",
   "execution_count": 23,
   "id": "e69a7160",
   "metadata": {},
   "outputs": [
    {
     "data": {
      "text/html": [
       "<div>\n",
       "<style scoped>\n",
       "    .dataframe tbody tr th:only-of-type {\n",
       "        vertical-align: middle;\n",
       "    }\n",
       "\n",
       "    .dataframe tbody tr th {\n",
       "        vertical-align: top;\n",
       "    }\n",
       "\n",
       "    .dataframe thead th {\n",
       "        text-align: right;\n",
       "    }\n",
       "</style>\n",
       "<table border=\"1\" class=\"dataframe\">\n",
       "  <thead>\n",
       "    <tr style=\"text-align: right;\">\n",
       "      <th></th>\n",
       "      <th>Date</th>\n",
       "      <th>Month</th>\n",
       "      <th>Year</th>\n",
       "    </tr>\n",
       "  </thead>\n",
       "  <tbody>\n",
       "    <tr>\n",
       "      <th>0</th>\n",
       "      <td>2023-01-01</td>\n",
       "      <td>1</td>\n",
       "      <td>2023</td>\n",
       "    </tr>\n",
       "    <tr>\n",
       "      <th>1</th>\n",
       "      <td>2023-01-01</td>\n",
       "      <td>1</td>\n",
       "      <td>2023</td>\n",
       "    </tr>\n",
       "    <tr>\n",
       "      <th>2</th>\n",
       "      <td>2023-01-02</td>\n",
       "      <td>1</td>\n",
       "      <td>2023</td>\n",
       "    </tr>\n",
       "    <tr>\n",
       "      <th>3</th>\n",
       "      <td>2023-01-02</td>\n",
       "      <td>1</td>\n",
       "      <td>2023</td>\n",
       "    </tr>\n",
       "    <tr>\n",
       "      <th>4</th>\n",
       "      <td>2023-02-01</td>\n",
       "      <td>2</td>\n",
       "      <td>2023</td>\n",
       "    </tr>\n",
       "    <tr>\n",
       "      <th>5</th>\n",
       "      <td>2023-02-01</td>\n",
       "      <td>2</td>\n",
       "      <td>2023</td>\n",
       "    </tr>\n",
       "    <tr>\n",
       "      <th>6</th>\n",
       "      <td>2023-02-02</td>\n",
       "      <td>2</td>\n",
       "      <td>2023</td>\n",
       "    </tr>\n",
       "    <tr>\n",
       "      <th>7</th>\n",
       "      <td>2023-02-02</td>\n",
       "      <td>2</td>\n",
       "      <td>2023</td>\n",
       "    </tr>\n",
       "    <tr>\n",
       "      <th>8</th>\n",
       "      <td>2023-03-01</td>\n",
       "      <td>3</td>\n",
       "      <td>2023</td>\n",
       "    </tr>\n",
       "    <tr>\n",
       "      <th>9</th>\n",
       "      <td>2023-03-01</td>\n",
       "      <td>3</td>\n",
       "      <td>2023</td>\n",
       "    </tr>\n",
       "    <tr>\n",
       "      <th>10</th>\n",
       "      <td>2023-03-02</td>\n",
       "      <td>3</td>\n",
       "      <td>2023</td>\n",
       "    </tr>\n",
       "    <tr>\n",
       "      <th>11</th>\n",
       "      <td>2023-03-02</td>\n",
       "      <td>3</td>\n",
       "      <td>2023</td>\n",
       "    </tr>\n",
       "  </tbody>\n",
       "</table>\n",
       "</div>"
      ],
      "text/plain": [
       "         Date  Month  Year\n",
       "0  2023-01-01      1  2023\n",
       "1  2023-01-01      1  2023\n",
       "2  2023-01-02      1  2023\n",
       "3  2023-01-02      1  2023\n",
       "4  2023-02-01      2  2023\n",
       "5  2023-02-01      2  2023\n",
       "6  2023-02-02      2  2023\n",
       "7  2023-02-02      2  2023\n",
       "8  2023-03-01      3  2023\n",
       "9  2023-03-01      3  2023\n",
       "10 2023-03-02      3  2023\n",
       "11 2023-03-02      3  2023"
      ]
     },
     "execution_count": 23,
     "metadata": {},
     "output_type": "execute_result"
    }
   ],
   "source": [
    "df['Date'] = pd.to_datetime(df['Date'])\n",
    "df['Month'] = df['Date'].dt.month\n",
    "df['Year'] = df['Date'].dt.year\n",
    "df[['Date','Month','Year']]"
   ]
  },
  {
   "cell_type": "code",
   "execution_count": 25,
   "id": "08fd2302",
   "metadata": {},
   "outputs": [
    {
     "name": "stdout",
     "output_type": "stream",
     "text": [
      "Month  Year\n",
      "1      2023    644\n",
      "2      2023    431\n",
      "3      2023    591\n",
      "Name: Revenue, dtype: int64\n"
     ]
    }
   ],
   "source": [
    "x = df.groupby(['Month', 'Year'])['Revenue'].sum()\n",
    "print(x)"
   ]
  },
  {
   "cell_type": "code",
   "execution_count": 27,
   "id": "aeb5e1d3",
   "metadata": {},
   "outputs": [
    {
     "name": "stdout",
     "output_type": "stream",
     "text": [
      "  MonthYear  Revenue\n",
      "0   2023-01      644\n",
      "1   2023-02      431\n",
      "2   2023-03      591\n"
     ]
    }
   ],
   "source": [
    "df['Date'] = pd.to_datetime(df['Date'])\n",
    "df['MonthYear'] = df['Date'].dt.to_period(\"M\")\n",
    "revenue_by_month_year = df.groupby('MonthYear')['Revenue'].sum().reset_index()\n",
    "print(revenue_by_month_year)"
   ]
  },
  {
   "cell_type": "markdown",
   "id": "7533e6cd",
   "metadata": {},
   "source": [
    "3)Group the DataFrame df by the 'Date' column and find the date with the highest total revenue and the date with the highest total quantity sold."
   ]
  },
  {
   "cell_type": "code",
   "execution_count": 29,
   "id": "0294ef51",
   "metadata": {},
   "outputs": [
    {
     "data": {
      "text/html": [
       "<div>\n",
       "<style scoped>\n",
       "    .dataframe tbody tr th:only-of-type {\n",
       "        vertical-align: middle;\n",
       "    }\n",
       "\n",
       "    .dataframe tbody tr th {\n",
       "        vertical-align: top;\n",
       "    }\n",
       "\n",
       "    .dataframe thead th {\n",
       "        text-align: right;\n",
       "    }\n",
       "</style>\n",
       "<table border=\"1\" class=\"dataframe\">\n",
       "  <thead>\n",
       "    <tr style=\"text-align: right;\">\n",
       "      <th></th>\n",
       "      <th>Date</th>\n",
       "      <th>Revenue</th>\n",
       "      <th>Quantity</th>\n",
       "    </tr>\n",
       "  </thead>\n",
       "  <tbody>\n",
       "    <tr>\n",
       "      <th>0</th>\n",
       "      <td>2023-01-01</td>\n",
       "      <td>332</td>\n",
       "      <td>11</td>\n",
       "    </tr>\n",
       "    <tr>\n",
       "      <th>1</th>\n",
       "      <td>2023-01-02</td>\n",
       "      <td>312</td>\n",
       "      <td>26</td>\n",
       "    </tr>\n",
       "    <tr>\n",
       "      <th>2</th>\n",
       "      <td>2023-02-01</td>\n",
       "      <td>165</td>\n",
       "      <td>16</td>\n",
       "    </tr>\n",
       "    <tr>\n",
       "      <th>3</th>\n",
       "      <td>2023-02-02</td>\n",
       "      <td>266</td>\n",
       "      <td>27</td>\n",
       "    </tr>\n",
       "    <tr>\n",
       "      <th>4</th>\n",
       "      <td>2023-03-01</td>\n",
       "      <td>320</td>\n",
       "      <td>29</td>\n",
       "    </tr>\n",
       "    <tr>\n",
       "      <th>5</th>\n",
       "      <td>2023-03-02</td>\n",
       "      <td>271</td>\n",
       "      <td>17</td>\n",
       "    </tr>\n",
       "  </tbody>\n",
       "</table>\n",
       "</div>"
      ],
      "text/plain": [
       "        Date  Revenue  Quantity\n",
       "0 2023-01-01      332        11\n",
       "1 2023-01-02      312        26\n",
       "2 2023-02-01      165        16\n",
       "3 2023-02-02      266        27\n",
       "4 2023-03-01      320        29\n",
       "5 2023-03-02      271        17"
      ]
     },
     "execution_count": 29,
     "metadata": {},
     "output_type": "execute_result"
    }
   ],
   "source": [
    "h= df.groupby('Date').agg({'Revenue': 'sum', 'Quantity': 'sum'}).reset_index()\n",
    "h"
   ]
  },
  {
   "cell_type": "code",
   "execution_count": 40,
   "id": "ab408a0a",
   "metadata": {},
   "outputs": [
    {
     "data": {
      "text/plain": [
       "Date\n",
       "2023-01-01    332\n",
       "2023-01-02    312\n",
       "2023-02-01    165\n",
       "2023-02-02    266\n",
       "2023-03-01    320\n",
       "2023-03-02    271\n",
       "Name: Revenue, dtype: int64"
      ]
     },
     "execution_count": 40,
     "metadata": {},
     "output_type": "execute_result"
    }
   ],
   "source": [
    "grouped_by_date = h.groupby('Date')['Revenue'].sum()\n",
    "grouped_by_date\n"
   ]
  },
  {
   "cell_type": "code",
   "execution_count": 41,
   "id": "aaaee111",
   "metadata": {},
   "outputs": [
    {
     "name": "stdout",
     "output_type": "stream",
     "text": [
      "Date with highest total revenue: 2023-01-01 00:00:00\n"
     ]
    }
   ],
   "source": [
    "max_revenue_date = grouped_by_date.idxmax()\n",
    "print(f\"Date with highest total revenue: {max_revenue_date}\")"
   ]
  },
  {
   "cell_type": "markdown",
   "id": "8560c64c",
   "metadata": {},
   "source": [
    "idxmax():\n",
    "In pandas, the idxmax() function is used to get the index of the first occurrence of the maximum value in a Series.\n",
    "idxmax() is used to find the index of the maximum value in the 'Revenue' and 'Quantity' columns within the grouped DataFrame (hr). Then, loc is used to locate the corresponding 'Date' value for that index."
   ]
  },
  {
   "cell_type": "markdown",
   "id": "f6669431",
   "metadata": {},
   "source": [
    "4)Group the Data Frame df by the Date and find products that have a total quantity sold greater than 10 and less than 15 ."
   ]
  },
  {
   "cell_type": "code",
   "execution_count": 43,
   "id": "43f98bcb",
   "metadata": {},
   "outputs": [],
   "source": [
    "x = df.groupby(['Date', 'Product'])['Quantity'].sum()"
   ]
  },
  {
   "cell_type": "code",
   "execution_count": 44,
   "id": "aec8a067",
   "metadata": {},
   "outputs": [],
   "source": [
    "y = x[(x > 10) & (x < 15)]\n"
   ]
  },
  {
   "cell_type": "code",
   "execution_count": 45,
   "id": "af055c19",
   "metadata": {},
   "outputs": [
    {
     "data": {
      "text/plain": [
       "(Date        Product\n",
       " 2023-01-01  A           3\n",
       "             B           8\n",
       " 2023-01-02  A          15\n",
       "             B          11\n",
       " 2023-02-01  A           4\n",
       "             B          12\n",
       " 2023-02-02  A          17\n",
       "             B          10\n",
       " 2023-03-01  A          10\n",
       "             B          19\n",
       " 2023-03-02  A          12\n",
       "             B           5\n",
       " Name: Quantity, dtype: int64,\n",
       " Date        Product\n",
       " 2023-01-02  B          11\n",
       " 2023-02-01  B          12\n",
       " 2023-03-02  A          12\n",
       " Name: Quantity, dtype: int64)"
      ]
     },
     "execution_count": 45,
     "metadata": {},
     "output_type": "execute_result"
    }
   ],
   "source": [
    "x,y"
   ]
  },
  {
   "cell_type": "markdown",
   "id": "daefa2cf",
   "metadata": {},
   "source": [
    "5)Group the DataFrame df by the 'Product' column and add a new column 'Revenue Percentage' that shows the percentage of each product's revenue relative to the total revenue for that product."
   ]
  },
  {
   "cell_type": "code",
   "execution_count": 46,
   "id": "bb933c94",
   "metadata": {},
   "outputs": [],
   "source": [
    "x = df.groupby('Product')['Revenue'].sum()"
   ]
  },
  {
   "cell_type": "code",
   "execution_count": 47,
   "id": "146429b1",
   "metadata": {},
   "outputs": [
    {
     "data": {
      "text/plain": [
       "Product\n",
       "A    774\n",
       "B    892\n",
       "Name: Revenue, dtype: int64"
      ]
     },
     "execution_count": 47,
     "metadata": {},
     "output_type": "execute_result"
    }
   ],
   "source": [
    "x"
   ]
  },
  {
   "cell_type": "code",
   "execution_count": 48,
   "id": "933347ed",
   "metadata": {},
   "outputs": [],
   "source": [
    "percentage = x / x.sum() * 100"
   ]
  },
  {
   "cell_type": "code",
   "execution_count": null,
   "id": "9d9d4301",
   "metadata": {},
   "outputs": [],
   "source": [
    "df['Revenue Percentage'] = gbt['Product'].map(percentage)\n",
    "print()"
   ]
  }
 ],
 "metadata": {
  "kernelspec": {
   "display_name": "Python 3 (ipykernel)",
   "language": "python",
   "name": "python3"
  },
  "language_info": {
   "codemirror_mode": {
    "name": "ipython",
    "version": 3
   },
   "file_extension": ".py",
   "mimetype": "text/x-python",
   "name": "python",
   "nbconvert_exporter": "python",
   "pygments_lexer": "ipython3",
   "version": "3.11.5"
  }
 },
 "nbformat": 4,
 "nbformat_minor": 5
}
